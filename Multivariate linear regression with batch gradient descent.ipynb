{
 "cells": [
  {
   "cell_type": "markdown",
   "metadata": {},
   "source": [
    "# Multivariate Batch Gradient Descent"
   ]
  },
  {
   "cell_type": "markdown",
   "metadata": {},
   "source": [
    "Linear regression with multiple variables is also known as \"multivariate linear regression\".\n",
    "The multivariable form of the hypothesis function accommodating these multiple features is as follows:\n",
    "\n",
    "hθ(x) = θ0 + θ1x1 + θ2x2 + θ3x3 + ⋯ + θnxn\n",
    "\n",
    "The gradient descent equation itself is generally the same form; we just have to repeat it for our 'n+1' features.\n",
    "We can speed up gradient descent by having each of our input values in roughly the same range.\n",
    "Two techniques to help with this are feature scaling and mean normalization. Feature scaling involves dividing the input values by the range (i.e. the maximum value minus the minimum value) of the input variable, resulting in a new range of just 1. Mean normalization involves subtracting the average value for an input variable from the values for that input variable resulting in a new average value for the input variable of just zero. To implement both of these techniques, adjust your input values as shown in this formula:"
   ]
  },
  {
   "cell_type": "code",
   "execution_count": 2,
   "metadata": {},
   "outputs": [],
   "source": [
    "# Import libraries\n",
    "%matplotlib inline\n",
    "from matplotlib import cm\n",
    "import matplotlib.pyplot as plt\n",
    "from matplotlib.ticker import LinearLocator, FormatStrFormatter\n",
    "from mpl_toolkits.mplot3d.axes3d import Axes3D\n",
    "import numpy as np\n",
    "import pandas as pd\n",
    "from scipy import stats\n",
    "\n",
    "\n",
    "\n",
    "# Load data and specify column names\n",
    "data = pd.read_csv(\"/Users/Valina/Documents/DSML-Projects/MLFoundations_CaseStudyApproach/data/ex1data2.txt\", names=['size','nbedrooms','price'])\n"
   ]
  },
  {
   "cell_type": "code",
   "execution_count": 3,
   "metadata": {},
   "outputs": [
    {
     "data": {
      "text/plain": [
       "(47, 3)"
      ]
     },
     "execution_count": 3,
     "metadata": {},
     "output_type": "execute_result"
    }
   ],
   "source": [
    "data.shape"
   ]
  },
  {
   "cell_type": "code",
   "execution_count": 8,
   "metadata": {},
   "outputs": [
    {
     "name": "stdout",
     "output_type": "stream",
     "text": [
      "              size  nbedrooms          price\n",
      "count    47.000000  47.000000      47.000000\n",
      "mean   2000.680851   3.170213  340412.659574\n",
      "std     794.702354   0.760982  125039.899586\n",
      "min     852.000000   1.000000  169900.000000\n",
      "25%    1432.000000   3.000000  249900.000000\n",
      "50%    1888.000000   3.000000  299900.000000\n",
      "75%    2269.000000   4.000000  384450.000000\n",
      "max    4478.000000   5.000000  699900.000000\n"
     ]
    }
   ],
   "source": [
    "print(data.describe())"
   ]
  },
  {
   "cell_type": "markdown",
   "metadata": {},
   "source": [
    "House sizes are about 1000 times the number of bedrooms. When features differ by orders of mag- nitude, first performing feature scaling can make gradient descent converge much more quickly.\n"
   ]
  },
  {
   "cell_type": "code",
   "execution_count": null,
   "metadata": {},
   "outputs": [],
   "source": [
    "# feature scaling and mean normalization\n",
    "newdata = pd.DataFrame()\n",
    "newdata['size'] = (data['size']-data['size'].mean())/data['size'].std()\n",
    "newdata['nbedrooms'] = (data['nbedrooms']-data['nbedrooms'].mean())/data['nbedrooms'].std()\n",
    "newdata['price'] = (data['price']-data['price'].mean())/data['price'].std()"
   ]
  },
  {
   "cell_type": "code",
   "execution_count": 41,
   "metadata": {},
   "outputs": [],
   "source": [
    "# Define cost function and its derivatives\n",
    "def J(par0, par1, par2, df):\n",
    "    cost = (par0*df['size'] + par1*df['nbedrooms'] + par2 - df['price'])**2\n",
    "    return cost.sum()/(2*len(df.index))\n",
    "\n",
    "def dJ0(par0, par1, par2, df):\n",
    "    dcosti = (par0*df['size'] + par1*df['nbedrooms'] + par2 - df['price'])\n",
    "    return dcosti.sum()/len(df.index) \n",
    "\n",
    "\n",
    "def dJi(par0, par1, par2, df, i_par):\n",
    "    dcosti = (par0*df['size'] + par1*df['nbedrooms'] + par2 - df['price'])*(df.iloc[:,i_par])\n",
    "    return dcosti.sum()/len(df.index) "
   ]
  },
  {
   "cell_type": "code",
   "execution_count": 42,
   "metadata": {},
   "outputs": [
    {
     "name": "stdout",
     "output_type": "stream",
     "text": [
      "778 9.95026441991e-07 0.130801255424 0.868438441107 -0.0368565383282 -1.10585299783e-16\n"
     ]
    }
   ],
   "source": [
    "# initialize parameters and variables\n",
    "intercept2 = 0.0\n",
    "slope0 = 0.0\n",
    "slope1 = 0.0\n",
    "cost_fn0 = 0.0\n",
    "dcost_fn = 10000\n",
    "alpha = 0.01\n",
    "precision = 1e-06\n",
    "i = 0\n",
    "\n",
    "while dcost_fn > precision:\n",
    "    i+= 1\n",
    "    # update parameters simultaneously\n",
    "    theta2 = intercept2 - alpha*dJ0(slope0, slope1, intercept2, newdata)\n",
    "    theta0 = slope0 - alpha*dJi(slope0, slope1, intercept2, newdata, 0)\n",
    "    theta1 = slope1 - alpha*dJi(slope0, slope1, intercept2, newdata, 1)\n",
    "    intercept2 = theta2\n",
    "    slope0 = theta0\n",
    "    slope1 = theta1\n",
    "    # recalculate cost and its gradient\n",
    "    cost_fn = J(slope0, slope1, intercept2, newdata)\n",
    "    dcost_fn = abs(cost_fn - cost_fn0)\n",
    "    # store value for next iteration\n",
    "    cost_fn0 = cost_fn\n",
    "    \n",
    "print(i, dcost_fn, cost_fn, slope0, slope1, intercept2)"
   ]
  }
 ],
 "metadata": {
  "kernelspec": {
   "display_name": "Python 3",
   "language": "python",
   "name": "python3"
  },
  "language_info": {
   "codemirror_mode": {
    "name": "ipython",
    "version": 3
   },
   "file_extension": ".py",
   "mimetype": "text/x-python",
   "name": "python",
   "nbconvert_exporter": "python",
   "pygments_lexer": "ipython3",
   "version": "3.6.2"
  }
 },
 "nbformat": 4,
 "nbformat_minor": 2
}
