{
 "cells": [
  {
   "cell_type": "markdown",
   "metadata": {},
   "source": [
    "# Logistic Regression with Gradient Descent"
   ]
  },
  {
   "cell_type": "code",
   "execution_count": 1,
   "metadata": {},
   "outputs": [],
   "source": [
    "# Imports\n",
    "import pandas as pd\n",
    "import numpy as np"
   ]
  },
  {
   "cell_type": "code",
   "execution_count": 2,
   "metadata": {},
   "outputs": [],
   "source": [
    "# Load data\n",
    "trainingset = pd.read_csv(\"/Users/Valina/Documents/DSML-Projects/MLFoundations_CaseStudyApproach/data/ex2data1.txt\", names=[\"x1\",\"x2\",\"y\"])"
   ]
  },
  {
   "cell_type": "code",
   "execution_count": 12,
   "metadata": {},
   "outputs": [
    {
     "data": {
      "text/plain": [
       "<matplotlib.axes._subplots.AxesSubplot at 0x109b91710>"
      ]
     },
     "execution_count": 12,
     "metadata": {},
     "output_type": "execute_result"
    },
    {
     "data": {
      "image/png": "[encoded data removed]",
      "text/plain": [
       "<matplotlib.figure.Figure at 0x109bb36a0>"
      ]
     },
     "metadata": {},
     "output_type": "display_data"
    }
   ],
   "source": [
    "# Scatter plot with Pandas\n",
    "\n",
    "df_passed = trainingset[trainingset['y']==1]\n",
    "df_notpassed = trainingset[trainingset['y']==0]\n",
    "\n",
    "ax = df_passed.plot(kind='scatter', x='x1', y='x2', color='Green', label='Passed')\n",
    "df_notpassed.plot(kind='scatter', x='x1', y='x2', color='Red', label='Not Passed', ax=ax)"
   ]
  },
  {
   "cell_type": "code",
   "execution_count": 10,
   "metadata": {},
   "outputs": [
    {
     "data": {
      "text/html": [
       "<div>\n",
       "<style>\n",
       "    .dataframe thead tr:only-child th {\n",
       "        text-align: right;\n",
       "    }\n",
       "\n",
       "    .dataframe thead th {\n",
       "        text-align: left;\n",
       "    }\n",
       "\n",
       "    .dataframe tbody tr th {\n",
       "        vertical-align: top;\n",
       "    }\n",
       "</style>\n",
       "<table border=\"1\" class=\"dataframe\">\n",
       "  <thead>\n",
       "    <tr style=\"text-align: right;\">\n",
       "      <th></th>\n",
       "      <th>x0</th>\n",
       "      <th>x1</th>\n",
       "      <th>x2</th>\n",
       "      <th>y</th>\n",
       "    </tr>\n",
       "  </thead>\n",
       "  <tbody>\n",
       "    <tr>\n",
       "      <th>0</th>\n",
       "      <td>1</td>\n",
       "      <td>34.623660</td>\n",
       "      <td>78.024693</td>\n",
       "      <td>0</td>\n",
       "    </tr>\n",
       "    <tr>\n",
       "      <th>1</th>\n",
       "      <td>1</td>\n",
       "      <td>30.286711</td>\n",
       "      <td>43.894998</td>\n",
       "      <td>0</td>\n",
       "    </tr>\n",
       "    <tr>\n",
       "      <th>2</th>\n",
       "      <td>1</td>\n",
       "      <td>35.847409</td>\n",
       "      <td>72.902198</td>\n",
       "      <td>0</td>\n",
       "    </tr>\n",
       "    <tr>\n",
       "      <th>3</th>\n",
       "      <td>1</td>\n",
       "      <td>60.182599</td>\n",
       "      <td>86.308552</td>\n",
       "      <td>1</td>\n",
       "    </tr>\n",
       "    <tr>\n",
       "      <th>4</th>\n",
       "      <td>1</td>\n",
       "      <td>79.032736</td>\n",
       "      <td>75.344376</td>\n",
       "      <td>1</td>\n",
       "    </tr>\n",
       "  </tbody>\n",
       "</table>\n",
       "</div>"
      ],
      "text/plain": [
       "   x0         x1         x2  y\n",
       "0   1  34.623660  78.024693  0\n",
       "1   1  30.286711  43.894998  0\n",
       "2   1  35.847409  72.902198  0\n",
       "3   1  60.182599  86.308552  1\n",
       "4   1  79.032736  75.344376  1"
      ]
     },
     "execution_count": 10,
     "metadata": {},
     "output_type": "execute_result"
    }
   ],
   "source": [
    "# add intercept term to data\n",
    "trainingset.insert(loc=0, column='x0', value=1)\n",
    "trainingset.head()"
   ]
  },
  {
   "cell_type": "code",
   "execution_count": 71,
   "metadata": {},
   "outputs": [],
   "source": [
    "# Define logistic regression hypotesis and Sigmoid Function\n",
    "\n",
    "def linear_hypothesis(df,params):\n",
    "    return params[0]*df['x0']+params[1]*df['x1']+params[2]*df['x2']\n",
    "\n",
    "def sigmoid_function(z):\n",
    "    return 1/(1+np.exp(-z))\n",
    "\n",
    "def h(df,params):\n",
    "    return sigmoid_function(linear_hypothesis(df,params))\n",
    "\n",
    "def cost_function(df, params):\n",
    "    cost = df['y']*np.log(h(df,params))+(1- df['y'])*np.log(1-h(df,params))\n",
    "    cost = -cost\n",
    "    return cost.sum()/len(df.index)\n",
    "\n",
    "def gradient(df,params):\n",
    "    dj = (h(df,params) - df['y'])*df.iloc[:,i]\n",
    "    return dj.sum()/len(df)\n",
    "\n",
    "thetas = [0,0,0]"
   ]
  },
  {
   "cell_type": "code",
   "execution_count": 18,
   "metadata": {},
   "outputs": [
    {
     "data": {
      "text/plain": [
       "0.69314718055994529"
      ]
     },
     "execution_count": 18,
     "metadata": {},
     "output_type": "execute_result"
    }
   ],
   "source": [
    "# Cost at initial theta (zeros)\n",
    "cost_function(trainingset,thetas)"
   ]
  },
  {
   "cell_type": "code",
   "execution_count": 102,
   "metadata": {},
   "outputs": [
    {
     "data": {
      "text/plain": [
       "list"
      ]
     },
     "execution_count": 102,
     "metadata": {},
     "output_type": "execute_result"
    }
   ],
   "source": [
    "[ ((h(trainingset,thetas) - trainingset['y'])*trainingset['x0']).sum()/len(trainingset), \n",
    "  ((h(trainingset,thetas) - trainingset['y'])*trainingset['x1']).sum()/len(trainingset),\n",
    "  ((h(trainingset,thetas) - trainingset['y'])*trainingset['x2']).sum()/len(trainingset) ]"
   ]
  }
 ],
 "metadata": {
  "kernelspec": {
   "display_name": "Python 3",
   "language": "python",
   "name": "python3"
  },
  "language_info": {
   "codemirror_mode": {
    "name": "ipython",
    "version": 3
   },
   "file_extension": ".py",
   "mimetype": "text/x-python",
   "name": "python",
   "nbconvert_exporter": "python",
   "pygments_lexer": "ipython3",
   "version": "3.6.2"
  }
 },
 "nbformat": 4,
 "nbformat_minor": 2
}
